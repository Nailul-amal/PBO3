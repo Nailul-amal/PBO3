{
  "nbformat": 4,
  "nbformat_minor": 0,
  "metadata": {
    "colab": {
      "provenance": [],
      "gpuType": "T4",
      "authorship_tag": "ABX9TyNHPDUHlnNDXe53/lNHj2ZQ",
      "include_colab_link": true
    },
    "kernelspec": {
      "name": "python3",
      "display_name": "Python 3"
    },
    "language_info": {
      "name": "python"
    },
    "accelerator": "GPU"
  },
  "cells": [
    {
      "cell_type": "markdown",
      "metadata": {
        "id": "view-in-github",
        "colab_type": "text"
      },
      "source": [
        "<a href=\"https://colab.research.google.com/github/Nailul-amal/PBO3/blob/main/tugas_PBO.ipynb\" target=\"_parent\"><img src=\"https://colab.research.google.com/assets/colab-badge.svg\" alt=\"Open In Colab\"/></a>"
      ]
    },
    {
      "cell_type": "code",
      "execution_count": null,
      "metadata": {
        "colab": {
          "base_uri": "https://localhost:8080/"
        },
        "id": "KRw3yEtjg2nN",
        "outputId": "95b133ff-452a-4acd-b131-a6899dca459e"
      },
      "outputs": [
        {
          "output_type": "stream",
          "name": "stdout",
          "text": [
            "Budi deatils:\n",
            "rambut: ikal\n",
            "warna rambut: hitam\n",
            "\n",
            "Michail details:\n",
            "rambut: lurus\n",
            "warna rambut: pirang\n"
          ]
        }
      ],
      "source": [
        "#class variable\n",
        "class Person:\n",
        "\n",
        "  # the ini method or constructor\n",
        "  def __init__(self, rambut, warna):\n",
        "    #instace Variable\n",
        "    self.rambut = rambut\n",
        "    self.warna = warna\n",
        "\n",
        "# object\n",
        "Budi = Person(\"ikal\", \"hitam\")\n",
        "Michail = Person(\"lurus\", \"pirang\")\n",
        "\n",
        "print('Budi deatils:')\n",
        "print('rambut:', Budi.rambut)\n",
        "print('warna rambut:', Budi.warna)\n",
        "\n",
        "print('\\nMichail details:')\n",
        "print('rambut:', Michail.rambut)\n",
        "print('warna rambut:', Michail.warna)"
      ]
    }
  ]
}
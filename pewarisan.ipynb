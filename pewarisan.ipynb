{
  "nbformat": 4,
  "nbformat_minor": 0,
  "metadata": {
    "colab": {
      "provenance": [],
      "gpuType": "T4",
      "authorship_tag": "ABX9TyMR7Oe+htIVSWuXX8qheJny",
      "include_colab_link": true
    },
    "kernelspec": {
      "name": "python3",
      "display_name": "Python 3"
    },
    "language_info": {
      "name": "python"
    },
    "accelerator": "GPU"
  },
  "cells": [
    {
      "cell_type": "markdown",
      "metadata": {
        "id": "view-in-github",
        "colab_type": "text"
      },
      "source": [
        "<a href=\"https://colab.research.google.com/github/Nailul-amal/PBO3/blob/main/pewarisan.ipynb\" target=\"_parent\"><img src=\"https://colab.research.google.com/assets/colab-badge.svg\" alt=\"Open In Colab\"/></a>"
      ]
    },
    {
      "cell_type": "code",
      "execution_count": 4,
      "metadata": {
        "colab": {
          "base_uri": "https://localhost:8080/"
        },
        "id": "7J4x_pkWdzXu",
        "outputId": "e41b5c3f-2cda-4941-e219-5eb9f32b3576"
      },
      "outputs": [
        {
          "output_type": "stream",
          "name": "stdout",
          "text": [
            "{'name': 'samsung', 'tipe': 'S23 ultra', 'color': 'black', 'number_of_camera': 4, 'price': '16jt'}\n",
            "{'name': 'apple', 'tipe': 'iphone 13 pro max', 'color': 'red', 'price': '17jt'}\n",
            "Smartphone is on\n",
            "Smartphone is on\n"
          ]
        }
      ],
      "source": [
        "#make class Smartphone\n",
        "class Smartphone:\n",
        "\tdef __init__(self, name, tipe, color):\n",
        "\t\tself.name = name\n",
        "\t\tself.tipe = tipe\n",
        "\t\tself.color = color\n",
        "\n",
        "#make methods\n",
        "\tdef on(self):\n",
        "\t\tprint(\"Smartphone is on\")\n",
        "\tdef off(self):\n",
        "\t\tprint(\"Smartphone is off\")\n",
        "#define sub class and make class android (inheritance from Smartphone)\n",
        "# the super() to call method __init__() from class Smartphone\n",
        "class android(Smartphone):\n",
        "\tdef __init__(self, name, tipe, color, number_of_camera, price):\n",
        "\t\tsuper().__init__(name, tipe, color)\n",
        "\t\tself.number_of_camera = number_of_camera\n",
        "\t\tself.price=price\n",
        "\n",
        "#make class IOS (inheritance from Smartphone)\n",
        "class IOS(Smartphone):\n",
        "\tdef __init__(self, name, tipe, color, price):\n",
        "\t\tsuper().__init__(name, tipe, color)\n",
        "\t\tself.price=price\n",
        "\n",
        "#make object\n",
        "android = android(\"samsung\", \"S23 ultra\", \"black\", 4, \"16jt\")\n",
        "IOS = IOS(\"apple\", \"iphone 13 pro max\", \"red\", \"17jt\")\n",
        "#print attribute dan method\n",
        "print(android.__dict__)\n",
        "print(IOS.__dict__)\n",
        "android.on()\n",
        "IOS.on()\n"
      ]
    }
  ]
}